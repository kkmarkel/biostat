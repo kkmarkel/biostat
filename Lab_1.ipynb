{
 "cells": [
  {
   "cell_type": "markdown",
   "id": "c5f55d75-0726-43ad-8b27-b49c512253ca",
   "metadata": {},
   "source": [
    "# Lab 1"
   ]
  },
  {
   "cell_type": "markdown",
   "id": "3b9e838d-551d-4624-9c68-7028f360aa48",
   "metadata": {},
   "source": [
    "## Imports "
   ]
  },
  {
   "cell_type": "code",
   "execution_count": 1,
   "id": "93504b07-a9b3-47c0-81f3-c47af55c2b7b",
   "metadata": {
    "execution": {
     "iopub.execute_input": "2025-10-19T18:04:26.988072Z",
     "iopub.status.busy": "2025-10-19T18:04:26.987654Z",
     "iopub.status.idle": "2025-10-19T18:04:28.200913Z",
     "shell.execute_reply": "2025-10-19T18:04:28.200016Z",
     "shell.execute_reply.started": "2025-10-19T18:04:26.988042Z"
    }
   },
   "outputs": [],
   "source": [
    "import pandas as pd\n",
    "import numpy as np\n",
    "import seaborn as sns\n",
    "import matplotlib.pyplot as plt"
   ]
  },
  {
   "cell_type": "markdown",
   "id": "9bcd052b-2d4c-41be-a3c5-049512257543",
   "metadata": {},
   "source": [
    "## Data"
   ]
  },
  {
   "cell_type": "code",
   "execution_count": 2,
   "id": "1baa53eb-a7bf-42e8-a03d-114757400c32",
   "metadata": {
    "execution": {
     "iopub.execute_input": "2025-10-19T18:04:28.430944Z",
     "iopub.status.busy": "2025-10-19T18:04:28.430773Z",
     "iopub.status.idle": "2025-10-19T18:04:28.434566Z",
     "shell.execute_reply": "2025-10-19T18:04:28.433723Z",
     "shell.execute_reply.started": "2025-10-19T18:04:28.430930Z"
    }
   },
   "outputs": [],
   "source": [
    "x = [70, 64, 135, 76, 83, 12, 75, 60, 115, 85]\n",
    "data = pd.Series(x, name='weight')"
   ]
  },
  {
   "cell_type": "code",
   "execution_count": 3,
   "id": "427360b3-542a-4d11-add6-58eb8a6f4062",
   "metadata": {
    "execution": {
     "iopub.execute_input": "2025-10-19T18:04:28.462233Z",
     "iopub.status.busy": "2025-10-19T18:04:28.461933Z",
     "iopub.status.idle": "2025-10-19T18:04:28.478158Z",
     "shell.execute_reply": "2025-10-19T18:04:28.476545Z",
     "shell.execute_reply.started": "2025-10-19T18:04:28.462213Z"
    }
   },
   "outputs": [
    {
     "data": {
      "text/plain": [
       "count     10.000000\n",
       "mean      77.500000\n",
       "std       32.732077\n",
       "min       12.000000\n",
       "25%       65.500000\n",
       "50%       75.500000\n",
       "75%       84.500000\n",
       "max      135.000000\n",
       "Name: weight, dtype: float64"
      ]
     },
     "execution_count": 3,
     "metadata": {},
     "output_type": "execute_result"
    }
   ],
   "source": [
    "data.describe()"
   ]
  },
  {
   "cell_type": "code",
   "execution_count": 4,
   "id": "a22bc529-8e31-4129-9613-4c1471815c47",
   "metadata": {
    "execution": {
     "iopub.execute_input": "2025-10-19T18:04:28.487698Z",
     "iopub.status.busy": "2025-10-19T18:04:28.487472Z",
     "iopub.status.idle": "2025-10-19T18:04:28.496764Z",
     "shell.execute_reply": "2025-10-19T18:04:28.495116Z",
     "shell.execute_reply.started": "2025-10-19T18:04:28.487673Z"
    }
   },
   "outputs": [
    {
     "name": "stdout",
     "output_type": "stream",
     "text": [
      "mean: 77.5\n"
     ]
    }
   ],
   "source": [
    "mean = data.sum()/len(data)\n",
    "print('mean:', mean)"
   ]
  },
  {
   "cell_type": "code",
   "execution_count": 5,
   "id": "f60e9c8d-403c-47cd-b1d9-6ee34e18cb25",
   "metadata": {
    "execution": {
     "iopub.execute_input": "2025-10-19T18:04:28.502424Z",
     "iopub.status.busy": "2025-10-19T18:04:28.502252Z",
     "iopub.status.idle": "2025-10-19T18:04:28.514843Z",
     "shell.execute_reply": "2025-10-19T18:04:28.513259Z",
     "shell.execute_reply.started": "2025-10-19T18:04:28.502411Z"
    }
   },
   "outputs": [
    {
     "data": {
      "text/plain": [
       "np.float64(77.5)"
      ]
     },
     "execution_count": 5,
     "metadata": {},
     "output_type": "execute_result"
    }
   ],
   "source": [
    "# аналогично\n",
    "np.mean(x)"
   ]
  },
  {
   "cell_type": "code",
   "execution_count": 6,
   "id": "363ee21b-edac-4d89-9a0d-30a2eb27d842",
   "metadata": {
    "execution": {
     "iopub.execute_input": "2025-10-19T18:04:28.522204Z",
     "iopub.status.busy": "2025-10-19T18:04:28.521861Z",
     "iopub.status.idle": "2025-10-19T18:04:28.539126Z",
     "shell.execute_reply": "2025-10-19T18:04:28.536793Z",
     "shell.execute_reply.started": "2025-10-19T18:04:28.522184Z"
    }
   },
   "outputs": [
    {
     "name": "stdout",
     "output_type": "stream",
     "text": [
      "C: 60062.5\n"
     ]
    }
   ],
   "source": [
    "# the squared sum term divided by n\n",
    "c = data.sum()**2/len(data)\n",
    "print('C:', c)"
   ]
  },
  {
   "cell_type": "code",
   "execution_count": 7,
   "id": "24998e63-0953-40dc-829f-ce6234ed3db7",
   "metadata": {
    "execution": {
     "iopub.execute_input": "2025-10-19T18:04:28.547316Z",
     "iopub.status.busy": "2025-10-19T18:04:28.547149Z",
     "iopub.status.idle": "2025-10-19T18:04:28.563097Z",
     "shell.execute_reply": "2025-10-19T18:04:28.560733Z",
     "shell.execute_reply.started": "2025-10-19T18:04:28.547297Z"
    }
   },
   "outputs": [
    {
     "name": "stdout",
     "output_type": "stream",
     "text": [
      "9642.5 9642.5\n"
     ]
    }
   ],
   "source": [
    "## sum of squares\n",
    "mean_x = np.mean(data)\n",
    "## способ 1 — напрямую\n",
    "ss = np.sum((data - mean_x) ** 2)\n",
    "\n",
    "## способ 2 — через эквивалентную формулу\n",
    "ss_alt = np.sum(data ** 2) - (np.sum(data) ** 2) / len(data)\n",
    "\n",
    "print(ss, ss_alt)"
   ]
  },
  {
   "cell_type": "code",
   "execution_count": 8,
   "id": "7a446bc5-9f16-44ab-bd5b-1c5ee32ffc12",
   "metadata": {
    "execution": {
     "iopub.execute_input": "2025-10-19T18:04:28.571660Z",
     "iopub.status.busy": "2025-10-19T18:04:28.571480Z",
     "iopub.status.idle": "2025-10-19T18:04:28.583252Z",
     "shell.execute_reply": "2025-10-19T18:04:28.581094Z",
     "shell.execute_reply.started": "2025-10-19T18:04:28.571646Z"
    }
   },
   "outputs": [
    {
     "data": {
      "text/plain": [
       "10"
      ]
     },
     "execution_count": 8,
     "metadata": {},
     "output_type": "execute_result"
    }
   ],
   "source": [
    "len(data)"
   ]
  },
  {
   "cell_type": "code",
   "execution_count": 14,
   "id": "cc729f07-87f0-4ba8-8e3b-5a60b33a9dc0",
   "metadata": {
    "execution": {
     "iopub.execute_input": "2025-10-19T18:10:40.556921Z",
     "iopub.status.busy": "2025-10-19T18:10:40.556679Z",
     "iopub.status.idle": "2025-10-19T18:10:40.882005Z",
     "shell.execute_reply": "2025-10-19T18:10:40.880963Z",
     "shell.execute_reply.started": "2025-10-19T18:10:40.556904Z"
    }
   },
   "outputs": [
    {
     "data": {
      "image/png": "[encoded data removed]",
      "text/plain": [
       "<Figure size 640x480 with 1 Axes>"
      ]
     },
     "metadata": {},
     "output_type": "display_data"
    }
   ],
   "source": [
    "sns.histplot(data, bins='auto', kde=True)\n",
    "# plt.title('Распределение веса клубней (N=10)')\n",
    "plt.xlabel('Вес клубней')\n",
    "plt.ylabel('Количество наблюдений')\n",
    "plt.savefig('plots/lab1_distribution.png', dpi=300)\n",
    "plt.show()"
   ]
  },
  {
   "cell_type": "code",
   "execution_count": 17,
   "id": "16d7d7c2-2e41-4966-b4f8-9a7f0f888bad",
   "metadata": {
    "execution": {
     "iopub.execute_input": "2025-10-19T18:18:30.505923Z",
     "iopub.status.busy": "2025-10-19T18:18:30.505493Z",
     "iopub.status.idle": "2025-10-19T18:18:30.511637Z",
     "shell.execute_reply": "2025-10-19T18:18:30.510077Z",
     "shell.execute_reply.started": "2025-10-19T18:18:30.505893Z"
    }
   },
   "outputs": [
    {
     "name": "stdout",
     "output_type": "stream",
     "text": [
      "Variance: 1071.388888888889\n",
      "Variance: 1071.388888888889\n"
     ]
    }
   ],
   "source": [
    "## variance\n",
    "var = ss / (len(data)-1)\n",
    "print('Variance:', var)\n",
    "## or\n",
    "var = data.var() # by default divides by n-1 (ddof=1)\n",
    "print('Variance:', var)"
   ]
  },
  {
   "cell_type": "code",
   "execution_count": 21,
   "id": "573c437c-2b6b-4589-bcfb-b827dc936b54",
   "metadata": {
    "execution": {
     "iopub.execute_input": "2025-10-19T18:25:41.958211Z",
     "iopub.status.busy": "2025-10-19T18:25:41.957925Z",
     "iopub.status.idle": "2025-10-19T18:25:41.963020Z",
     "shell.execute_reply": "2025-10-19T18:25:41.962264Z",
     "shell.execute_reply.started": "2025-10-19T18:25:41.958193Z"
    }
   },
   "outputs": [
    {
     "name": "stdout",
     "output_type": "stream",
     "text": [
      "Standard deviation: 32.732077368979944\n",
      "Standard deviation: 32.732077368979944\n"
     ]
    }
   ],
   "source": [
    "## standard deviation\n",
    "sd = np.sqrt(var)\n",
    "print('Standard deviation:', sd)\n",
    "## or\n",
    "sd = data.std()\n",
    "print('Standard deviation:', sd)"
   ]
  },
  {
   "cell_type": "code",
   "execution_count": 22,
   "id": "22035693-1afa-4735-a3f8-b5280690f1f2",
   "metadata": {
    "execution": {
     "iopub.execute_input": "2025-10-19T18:35:14.694334Z",
     "iopub.status.busy": "2025-10-19T18:35:14.694094Z",
     "iopub.status.idle": "2025-10-19T18:35:14.699129Z",
     "shell.execute_reply": "2025-10-19T18:35:14.697958Z",
     "shell.execute_reply.started": "2025-10-19T18:35:14.694309Z"
    }
   },
   "outputs": [
    {
     "name": "stdout",
     "output_type": "stream",
     "text": [
      "Коэффициент вариации: 42.23%\n"
     ]
    }
   ],
   "source": [
    "## Коэффициент вариации\n",
    "cv = (data.std() / data.mean()) * 100\n",
    "\n",
    "print(f\"Коэффициент вариации: {cv:.2f}%\")"
   ]
  },
  {
   "cell_type": "code",
   "execution_count": 23,
   "id": "5a7eed89-e5b9-4e90-83bc-d3c91edbf155",
   "metadata": {
    "execution": {
     "iopub.execute_input": "2025-10-19T18:41:35.850941Z",
     "iopub.status.busy": "2025-10-19T18:41:35.850119Z",
     "iopub.status.idle": "2025-10-19T18:41:35.857354Z",
     "shell.execute_reply": "2025-10-19T18:41:35.855468Z",
     "shell.execute_reply.started": "2025-10-19T18:41:35.850903Z"
    }
   },
   "outputs": [
    {
     "name": "stdout",
     "output_type": "stream",
     "text": [
      "Ошибка выборочной средней (SEM): 10.3508\n",
      "Ошибка выборочной средней (SEM): 10.3508\n"
     ]
    }
   ],
   "source": [
    "## standard error of the mean\n",
    "n = len(data)        # размер выборки\n",
    "std = data.std()     # стандартное отклонение (выборочное, ddof=1)\n",
    "sem = std / np.sqrt(n)\n",
    "print(f\"Ошибка выборочной средней (SEM): {sem:.4f}\")\n",
    "## or\n",
    "sem = data.sem()\n",
    "print(f\"Ошибка выборочной средней (SEM): {sem:.4f}\")"
   ]
  },
  {
   "cell_type": "code",
   "execution_count": null,
   "id": "f2b2c805-eb94-460b-a51e-4103d9dc6e1b",
   "metadata": {},
   "outputs": [],
   "source": []
  }
 ],
 "metadata": {
  "kernelspec": {
   "display_name": "an_data",
   "language": "python",
   "name": "an_data"
  },
  "language_info": {
   "codemirror_mode": {
    "name": "ipython",
    "version": 3
   },
   "file_extension": ".py",
   "mimetype": "text/x-python",
   "name": "python",
   "nbconvert_exporter": "python",
   "pygments_lexer": "ipython3",
   "version": "3.14.0"
  }
 },
 "nbformat": 4,
 "nbformat_minor": 5
}
